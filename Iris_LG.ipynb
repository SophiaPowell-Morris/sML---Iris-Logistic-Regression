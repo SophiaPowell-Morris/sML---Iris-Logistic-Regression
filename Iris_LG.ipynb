{
 "cells": [
  {
   "cell_type": "code",
   "execution_count": 32,
   "id": "82c656d6",
   "metadata": {},
   "outputs": [
    {
     "data": {
      "text/html": [
       "<div>\n",
       "<style scoped>\n",
       "    .dataframe tbody tr th:only-of-type {\n",
       "        vertical-align: middle;\n",
       "    }\n",
       "\n",
       "    .dataframe tbody tr th {\n",
       "        vertical-align: top;\n",
       "    }\n",
       "\n",
       "    .dataframe thead th {\n",
       "        text-align: right;\n",
       "    }\n",
       "</style>\n",
       "<table border=\"1\" class=\"dataframe\">\n",
       "  <thead>\n",
       "    <tr style=\"text-align: right;\">\n",
       "      <th></th>\n",
       "      <th>sepal length (cm)</th>\n",
       "      <th>sepal width (cm)</th>\n",
       "      <th>petal length (cm)</th>\n",
       "      <th>petal width (cm)</th>\n",
       "      <th>Species</th>\n",
       "    </tr>\n",
       "  </thead>\n",
       "  <tbody>\n",
       "    <tr>\n",
       "      <th>0</th>\n",
       "      <td>5.1</td>\n",
       "      <td>3.5</td>\n",
       "      <td>1.4</td>\n",
       "      <td>0.2</td>\n",
       "      <td>0</td>\n",
       "    </tr>\n",
       "    <tr>\n",
       "      <th>1</th>\n",
       "      <td>4.9</td>\n",
       "      <td>3.0</td>\n",
       "      <td>1.4</td>\n",
       "      <td>0.2</td>\n",
       "      <td>0</td>\n",
       "    </tr>\n",
       "    <tr>\n",
       "      <th>2</th>\n",
       "      <td>4.7</td>\n",
       "      <td>3.2</td>\n",
       "      <td>1.3</td>\n",
       "      <td>0.2</td>\n",
       "      <td>0</td>\n",
       "    </tr>\n",
       "    <tr>\n",
       "      <th>3</th>\n",
       "      <td>4.6</td>\n",
       "      <td>3.1</td>\n",
       "      <td>1.5</td>\n",
       "      <td>0.2</td>\n",
       "      <td>0</td>\n",
       "    </tr>\n",
       "    <tr>\n",
       "      <th>4</th>\n",
       "      <td>5.0</td>\n",
       "      <td>3.6</td>\n",
       "      <td>1.4</td>\n",
       "      <td>0.2</td>\n",
       "      <td>0</td>\n",
       "    </tr>\n",
       "  </tbody>\n",
       "</table>\n",
       "</div>"
      ],
      "text/plain": [
       "   sepal length (cm)  sepal width (cm)  petal length (cm)  petal width (cm)  \\\n",
       "0                5.1               3.5                1.4               0.2   \n",
       "1                4.9               3.0                1.4               0.2   \n",
       "2                4.7               3.2                1.3               0.2   \n",
       "3                4.6               3.1                1.5               0.2   \n",
       "4                5.0               3.6                1.4               0.2   \n",
       "\n",
       "   Species  \n",
       "0        0  \n",
       "1        0  \n",
       "2        0  \n",
       "3        0  \n",
       "4        0  "
      ]
     },
     "execution_count": 32,
     "metadata": {},
     "output_type": "execute_result"
    }
   ],
   "source": [
    "# importing libraries\n",
    "import numpy as np\n",
    "import pandas as pd\n",
    "import matplotlib.pyplot as plt3\n",
    "from sklearn.datasets import load_iris\n",
    "from sklearn.model_selection import train_test_split\n",
    "from sklearn.linear_model import LogisticRegression\n",
    "from sklearn import preprocessing\n",
    "from sklearn.metrics import accuracy_score, precision_score, recall_score, f1_score\n",
    "\n",
    "# importing the dataset\n",
    "iris = load_iris()\n",
    "data = pd.DataFrame(iris.data, columns=iris.feature_names)\n",
    "data['Species'] = iris.target\n",
    "data.head()"
   ]
  },
  {
   "cell_type": "markdown",
   "id": "51346fb5",
   "metadata": {},
   "source": [
    "## Identify IV's and DV's"
   ]
  },
  {
   "cell_type": "code",
   "execution_count": 33,
   "id": "0340ebb8",
   "metadata": {},
   "outputs": [],
   "source": [
    "# Independent Variables \n",
    "X = data.iloc[:, [0,1,2,3]].values"
   ]
  },
  {
   "cell_type": "code",
   "execution_count": 34,
   "id": "85a32c4f",
   "metadata": {},
   "outputs": [
    {
     "data": {
      "text/plain": [
       "array([0, 1])"
      ]
     },
     "execution_count": 34,
     "metadata": {},
     "output_type": "execute_result"
    }
   ],
   "source": [
    "# Encoding DV's categorical values from [0,1,2] to [0,1]\n",
    "data.loc[data[\"Species\"] == 2, \"Species\"] = 1\n",
    "data['Species'].unique()"
   ]
  },
  {
   "cell_type": "code",
   "execution_count": 35,
   "id": "13dae07a",
   "metadata": {},
   "outputs": [],
   "source": [
    "# Dependent Variable \n",
    "y = data.iloc[:, [4]].values"
   ]
  },
  {
   "cell_type": "markdown",
   "id": "3ad70447",
   "metadata": {},
   "source": [
    "## Training and Test Samples"
   ]
  },
  {
   "cell_type": "code",
   "execution_count": 36,
   "id": "e8900097",
   "metadata": {},
   "outputs": [],
   "source": [
    "X = X.reshape(-1, 4)"
   ]
  },
  {
   "cell_type": "code",
   "execution_count": 37,
   "id": "8bab04ac",
   "metadata": {},
   "outputs": [],
   "source": [
    "# scaling the IV's data so it's easier to fit\n",
    "X = preprocessing.scale(X)"
   ]
  },
  {
   "cell_type": "code",
   "execution_count": 38,
   "id": "ed375609",
   "metadata": {},
   "outputs": [
    {
     "name": "stdout",
     "output_type": "stream",
     "text": [
      "Training data: (120, 4) (120, 1)\n",
      "Test data: (30, 4) (30, 1)\n"
     ]
    }
   ],
   "source": [
    "X_train, X_test, y_train, y_test = train_test_split(X, y, test_size=0.2)\n",
    "print (\"Training data:\",X_train.shape, y_train.shape)\n",
    "print (\"Test data:\",X_test.shape, y_test.shape)"
   ]
  },
  {
   "cell_type": "markdown",
   "id": "fc8d5537",
   "metadata": {},
   "source": [
    "## Creating the Logistic Regression Model"
   ]
  },
  {
   "cell_type": "code",
   "execution_count": 39,
   "id": "b048e83d",
   "metadata": {},
   "outputs": [
    {
     "name": "stdout",
     "output_type": "stream",
     "text": [
      "Intercept: \n",
      " [2.36149286]\n",
      "Coefficients: \n",
      " [[ 1.0334783  -1.16302406  1.66774522  1.54620532]]\n"
     ]
    },
    {
     "name": "stderr",
     "output_type": "stream",
     "text": [
      "C:\\Users\\Georgia\\anaconda32nd\\lib\\site-packages\\sklearn\\utils\\validation.py:1143: DataConversionWarning: A column-vector y was passed when a 1d array was expected. Please change the shape of y to (n_samples, ), for example using ravel().\n",
      "  y = column_or_1d(y, warn=True)\n"
     ]
    }
   ],
   "source": [
    "# creating an empty logistic regression model object\n",
    "iris_model = LogisticRegression()\n",
    "\n",
    "# fitting the model using the training set\n",
    "model = iris_model.fit(X_train, y_train)\n",
    "\n",
    "print('Intercept: \\n', model.intercept_)\n",
    "print('Coefficients: \\n', model.coef_)"
   ]
  },
  {
   "cell_type": "markdown",
   "id": "8ce4375f",
   "metadata": {},
   "source": [
    "### Model equations to predict if the Species is Setosa or Not Setosa\n",
    "\n",
    "$$IsSetosa = 2.36 + 1.03(Sepal Length) - 1.16(Sepal Width) + 1.67(Petal Length) + 1.55(Petal Width)$$"
   ]
  },
  {
   "cell_type": "markdown",
   "id": "7b2955af",
   "metadata": {},
   "source": [
    "### Predictions for the test set"
   ]
  },
  {
   "cell_type": "code",
   "execution_count": 40,
   "id": "547523dc",
   "metadata": {},
   "outputs": [],
   "source": [
    "y_pred = iris_model.predict(X_test).reshape(-1,1)"
   ]
  },
  {
   "cell_type": "markdown",
   "id": "405ce890",
   "metadata": {},
   "source": [
    "## Measuring Model Performance"
   ]
  },
  {
   "cell_type": "markdown",
   "id": "8e32b448",
   "metadata": {},
   "source": [
    "### Confusion Matrix"
   ]
  },
  {
   "cell_type": "code",
   "execution_count": 41,
   "id": "7b2dc8bb",
   "metadata": {},
   "outputs": [
    {
     "data": {
      "text/html": [
       "<div>\n",
       "<style scoped>\n",
       "    .dataframe tbody tr th:only-of-type {\n",
       "        vertical-align: middle;\n",
       "    }\n",
       "\n",
       "    .dataframe tbody tr th {\n",
       "        vertical-align: top;\n",
       "    }\n",
       "\n",
       "    .dataframe thead th {\n",
       "        text-align: right;\n",
       "    }\n",
       "</style>\n",
       "<table border=\"1\" class=\"dataframe\">\n",
       "  <thead>\n",
       "    <tr style=\"text-align: right;\">\n",
       "      <th></th>\n",
       "      <th>IsSentora</th>\n",
       "      <th>NotSentora</th>\n",
       "    </tr>\n",
       "  </thead>\n",
       "  <tbody>\n",
       "    <tr>\n",
       "      <th>IsSentora</th>\n",
       "      <td>9</td>\n",
       "      <td>0</td>\n",
       "    </tr>\n",
       "    <tr>\n",
       "      <th>NotSentora</th>\n",
       "      <td>0</td>\n",
       "      <td>21</td>\n",
       "    </tr>\n",
       "  </tbody>\n",
       "</table>\n",
       "</div>"
      ],
      "text/plain": [
       "            IsSentora  NotSentora\n",
       "IsSentora           9           0\n",
       "NotSentora          0          21"
      ]
     },
     "execution_count": 41,
     "metadata": {},
     "output_type": "execute_result"
    }
   ],
   "source": [
    "from sklearn.metrics import confusion_matrix\n",
    "\n",
    "classes = list([\"IsSentora\", \"NotSentora\"])\n",
    "conf_mat = confusion_matrix(y_test, y_pred)\n",
    "cm_df = pd.DataFrame(conf_mat, columns=classes, index=classes)\n",
    "cm_df"
   ]
  },
  {
   "cell_type": "markdown",
   "id": "e4e9ca72",
   "metadata": {},
   "source": [
    "As all predictions where accurate, it would be expected for both the precions and recall values to equal to 1 as:\n",
    "\n",
    "* $Precision = \\frac{9}{9 + 0}$\n",
    "* $Precision = 1$\n",
    "\n",
    "\n",
    "* $Recall = \\frac{9}{9+0}$\n",
    "* $Recall = 1$"
   ]
  },
  {
   "cell_type": "code",
   "execution_count": 42,
   "id": "c1c6cb26",
   "metadata": {},
   "outputs": [],
   "source": [
    "tp = conf_mat[0][0]\n",
    "fp = conf_mat[0][1]\n",
    "fn = conf_mat[1][0]\n",
    "tn = conf_mat[1][1]"
   ]
  },
  {
   "cell_type": "markdown",
   "id": "73a53d66",
   "metadata": {},
   "source": [
    "### Accuracy \n",
    "\n",
    "$$Accuracy = \\frac{TP + TN} {TP + FN + TN + FP}$$"
   ]
  },
  {
   "cell_type": "code",
   "execution_count": 43,
   "id": "3eb227ce",
   "metadata": {},
   "outputs": [
    {
     "name": "stdout",
     "output_type": "stream",
     "text": [
      "Accuracy: 1.0\n"
     ]
    }
   ],
   "source": [
    "accuracy = (tp + tn) / (tp + fn + tn + fp)\n",
    "print('Accuracy:', accuracy)"
   ]
  },
  {
   "cell_type": "markdown",
   "id": "04e58043",
   "metadata": {},
   "source": [
    "### Precision\n",
    "\n",
    "$$Precision = \\frac{TP} {TP + FP}$$"
   ]
  },
  {
   "cell_type": "code",
   "execution_count": 44,
   "id": "9f51a129",
   "metadata": {},
   "outputs": [
    {
     "name": "stdout",
     "output_type": "stream",
     "text": [
      "Precision: 1.0\n"
     ]
    }
   ],
   "source": [
    "precision = tp / (tp + fp)\n",
    "print('Precision:', precision)"
   ]
  },
  {
   "cell_type": "markdown",
   "id": "ffcd9beb",
   "metadata": {},
   "source": [
    "### Recall\n",
    "$$Recall = \\frac{TP} {TP + FN}$$"
   ]
  },
  {
   "cell_type": "code",
   "execution_count": 45,
   "id": "ce21be6a",
   "metadata": {},
   "outputs": [
    {
     "name": "stdout",
     "output_type": "stream",
     "text": [
      "Recall: 1.0\n"
     ]
    }
   ],
   "source": [
    "recall = tp / (tp + fn)\n",
    "print('Recall:', recall)"
   ]
  },
  {
   "cell_type": "markdown",
   "id": "3b485da5",
   "metadata": {},
   "source": [
    "The earlier predictions were correct as the model was able to postively predict all values correctly whilst also having the correct level of sensitivity as all postively cases where predicited accurately, thus resulting in an accuracy score of 1 also.\n",
    "\n",
    "Furthermore, as both the precision and recall are equal to 1 the F1 score is also maximised as it is also equal to 1.\n"
   ]
  },
  {
   "cell_type": "markdown",
   "id": "a1030795",
   "metadata": {},
   "source": [
    "# Optional Task"
   ]
  },
  {
   "cell_type": "code",
   "execution_count": 57,
   "id": "601ed521",
   "metadata": {
    "scrolled": true
   },
   "outputs": [
    {
     "data": {
      "text/html": [
       "<div>\n",
       "<style scoped>\n",
       "    .dataframe tbody tr th:only-of-type {\n",
       "        vertical-align: middle;\n",
       "    }\n",
       "\n",
       "    .dataframe tbody tr th {\n",
       "        vertical-align: top;\n",
       "    }\n",
       "\n",
       "    .dataframe thead th {\n",
       "        text-align: right;\n",
       "    }\n",
       "</style>\n",
       "<table border=\"1\" class=\"dataframe\">\n",
       "  <thead>\n",
       "    <tr style=\"text-align: right;\">\n",
       "      <th></th>\n",
       "      <th>sepal length (cm)</th>\n",
       "      <th>sepal width (cm)</th>\n",
       "      <th>petal length (cm)</th>\n",
       "      <th>petal width (cm)</th>\n",
       "      <th>Species</th>\n",
       "    </tr>\n",
       "  </thead>\n",
       "  <tbody>\n",
       "    <tr>\n",
       "      <th>0</th>\n",
       "      <td>5.1</td>\n",
       "      <td>3.5</td>\n",
       "      <td>1.4</td>\n",
       "      <td>0.2</td>\n",
       "      <td>0</td>\n",
       "    </tr>\n",
       "    <tr>\n",
       "      <th>1</th>\n",
       "      <td>4.9</td>\n",
       "      <td>3.0</td>\n",
       "      <td>1.4</td>\n",
       "      <td>0.2</td>\n",
       "      <td>0</td>\n",
       "    </tr>\n",
       "    <tr>\n",
       "      <th>2</th>\n",
       "      <td>4.7</td>\n",
       "      <td>3.2</td>\n",
       "      <td>1.3</td>\n",
       "      <td>0.2</td>\n",
       "      <td>0</td>\n",
       "    </tr>\n",
       "    <tr>\n",
       "      <th>3</th>\n",
       "      <td>4.6</td>\n",
       "      <td>3.1</td>\n",
       "      <td>1.5</td>\n",
       "      <td>0.2</td>\n",
       "      <td>0</td>\n",
       "    </tr>\n",
       "    <tr>\n",
       "      <th>4</th>\n",
       "      <td>5.0</td>\n",
       "      <td>3.6</td>\n",
       "      <td>1.4</td>\n",
       "      <td>0.2</td>\n",
       "      <td>0</td>\n",
       "    </tr>\n",
       "  </tbody>\n",
       "</table>\n",
       "</div>"
      ],
      "text/plain": [
       "   sepal length (cm)  sepal width (cm)  petal length (cm)  petal width (cm)  \\\n",
       "0                5.1               3.5                1.4               0.2   \n",
       "1                4.9               3.0                1.4               0.2   \n",
       "2                4.7               3.2                1.3               0.2   \n",
       "3                4.6               3.1                1.5               0.2   \n",
       "4                5.0               3.6                1.4               0.2   \n",
       "\n",
       "   Species  \n",
       "0        0  \n",
       "1        0  \n",
       "2        0  \n",
       "3        0  \n",
       "4        0  "
      ]
     },
     "execution_count": 57,
     "metadata": {},
     "output_type": "execute_result"
    }
   ],
   "source": [
    "# import the dataset \n",
    "iris = load_iris()\n",
    "df2 = pd.DataFrame(iris.data, columns=iris.feature_names)\n",
    "df2['Species'] = iris.target\n",
    "df2.head()"
   ]
  },
  {
   "cell_type": "markdown",
   "id": "4ab19801",
   "metadata": {},
   "source": [
    "## Identify IV's and DV's"
   ]
  },
  {
   "cell_type": "code",
   "execution_count": 58,
   "id": "b8082a6d",
   "metadata": {},
   "outputs": [],
   "source": [
    "X2 = df2.iloc[:,[0,1,2,3]].values\n",
    "y2 = df2.iloc[:,[4]].values\n",
    "\n",
    "X2 = X2.reshape(-1,4)"
   ]
  },
  {
   "cell_type": "markdown",
   "id": "fc729b0b",
   "metadata": {},
   "source": [
    "## Training and Test Samples"
   ]
  },
  {
   "cell_type": "code",
   "execution_count": 59,
   "id": "aa66995d",
   "metadata": {},
   "outputs": [],
   "source": [
    "# scaling the data so it is easier to fit\n",
    "X2 = preprocessing.scale(X2)"
   ]
  },
  {
   "cell_type": "code",
   "execution_count": 60,
   "id": "27989077",
   "metadata": {},
   "outputs": [
    {
     "name": "stdout",
     "output_type": "stream",
     "text": [
      "Training data: (120, 4) (120, 1)\n",
      "Test data: (30, 4) (30, 1)\n"
     ]
    }
   ],
   "source": [
    "X2_train, X2_test, y2_train, y2_test = train_test_split(X2, y2, test_size=0.2)\n",
    "\n",
    "print (\"Training data:\",X2_train.shape, y2_train.shape)\n",
    "print (\"Test data:\",X2_test.shape, y2_test.shape)"
   ]
  },
  {
   "cell_type": "markdown",
   "id": "0c64e899",
   "metadata": {},
   "source": [
    "## Creating the Logistic Regression Model"
   ]
  },
  {
   "cell_type": "code",
   "execution_count": 61,
   "id": "9ba36843",
   "metadata": {},
   "outputs": [
    {
     "name": "stdout",
     "output_type": "stream",
     "text": [
      "Intercept: \n",
      " [-0.15416528  1.815195   -1.66102972]\n",
      "Coefficients: \n",
      " [[-1.0003395   1.25228429 -1.71991383 -1.62129747]\n",
      " [ 0.504197   -0.41221389 -0.38699892 -0.78708392]\n",
      " [ 0.4961425  -0.8400704   2.10691276  2.40838139]]\n"
     ]
    },
    {
     "name": "stderr",
     "output_type": "stream",
     "text": [
      "C:\\Users\\Georgia\\anaconda32nd\\lib\\site-packages\\sklearn\\utils\\validation.py:1143: DataConversionWarning: A column-vector y was passed when a 1d array was expected. Please change the shape of y to (n_samples, ), for example using ravel().\n",
      "  y = column_or_1d(y, warn=True)\n"
     ]
    }
   ],
   "source": [
    "# creating an empty logistic regression model object\n",
    "iris_model2 = LogisticRegression()\n",
    "\n",
    "# fitting the model using the training set\n",
    "model2 = iris_model2.fit(X2_train, y2_train)\n",
    "\n",
    "print('Intercept: \\n', model2.intercept_)\n",
    "print('Coefficients: \\n', model2.coef_)"
   ]
  },
  {
   "cell_type": "markdown",
   "id": "fce05809",
   "metadata": {},
   "source": [
    "### Model equations to predict the Species of the Iris plant\n",
    "\n",
    "$$Setosa = -0.15 - 1(Sepal Length) + 1.25(Sepal Width) - 1.72(Petal Length) - 1.62(Petal Width)$$\n",
    "\n",
    "$$Versicolor = 1.82 + 0.5(Sepal Length) - 0.41(Sepal Width) - 0.39(Petal Length) - 0.79(Petal Width)$$\n",
    "\n",
    "$$Virginica = -1.66 + 0.5(Sepal Length) - 0.84(Sepal Width) + 2.11(Petal Length) + 2.41(Petal Width)$$"
   ]
  },
  {
   "cell_type": "markdown",
   "id": "5d3030a6",
   "metadata": {},
   "source": [
    "### Predictions for the test set"
   ]
  },
  {
   "cell_type": "code",
   "execution_count": 62,
   "id": "d62317b3",
   "metadata": {},
   "outputs": [],
   "source": [
    "y2_pred = iris_model2.predict(X2_test).reshape(-1,1)"
   ]
  },
  {
   "cell_type": "markdown",
   "id": "fa3fabd7",
   "metadata": {},
   "source": [
    "## Measuring Model Performance"
   ]
  },
  {
   "cell_type": "markdown",
   "id": "b4f279ab",
   "metadata": {},
   "source": [
    "### Confusion Matrix"
   ]
  },
  {
   "cell_type": "code",
   "execution_count": 63,
   "id": "7f4fa74d",
   "metadata": {},
   "outputs": [
    {
     "data": {
      "text/html": [
       "<div>\n",
       "<style scoped>\n",
       "    .dataframe tbody tr th:only-of-type {\n",
       "        vertical-align: middle;\n",
       "    }\n",
       "\n",
       "    .dataframe tbody tr th {\n",
       "        vertical-align: top;\n",
       "    }\n",
       "\n",
       "    .dataframe thead th {\n",
       "        text-align: right;\n",
       "    }\n",
       "</style>\n",
       "<table border=\"1\" class=\"dataframe\">\n",
       "  <thead>\n",
       "    <tr style=\"text-align: right;\">\n",
       "      <th></th>\n",
       "      <th>Iris-Setosa</th>\n",
       "      <th>Iris-Versicolor</th>\n",
       "      <th>Iris-Virginica</th>\n",
       "    </tr>\n",
       "  </thead>\n",
       "  <tbody>\n",
       "    <tr>\n",
       "      <th>Iris-Setosa</th>\n",
       "      <td>8</td>\n",
       "      <td>0</td>\n",
       "      <td>0</td>\n",
       "    </tr>\n",
       "    <tr>\n",
       "      <th>Iris-Versicolor</th>\n",
       "      <td>0</td>\n",
       "      <td>12</td>\n",
       "      <td>2</td>\n",
       "    </tr>\n",
       "    <tr>\n",
       "      <th>Iris-Virginica</th>\n",
       "      <td>0</td>\n",
       "      <td>0</td>\n",
       "      <td>8</td>\n",
       "    </tr>\n",
       "  </tbody>\n",
       "</table>\n",
       "</div>"
      ],
      "text/plain": [
       "                 Iris-Setosa  Iris-Versicolor  Iris-Virginica\n",
       "Iris-Setosa                8                0               0\n",
       "Iris-Versicolor            0               12               2\n",
       "Iris-Virginica             0                0               8"
      ]
     },
     "execution_count": 63,
     "metadata": {},
     "output_type": "execute_result"
    }
   ],
   "source": [
    "from sklearn.metrics import confusion_matrix\n",
    "\n",
    "classes2 = list([\"Iris-Setosa\", \"Iris-Versicolor\", \"Iris-Virginica\"])\n",
    "conf_mat2 = confusion_matrix(y2_test, y2_pred)\n",
    "cm2_df = pd.DataFrame(conf_mat2, columns=classes2, index=classes2)\n",
    "cm2_df"
   ]
  },
  {
   "cell_type": "markdown",
   "id": "81d7771d",
   "metadata": {},
   "source": [
    "### Accuracy\n",
    "\n",
    "Example of calculating the accuracy score using own formula and built-in methods"
   ]
  },
  {
   "cell_type": "code",
   "execution_count": 64,
   "id": "a342d695",
   "metadata": {},
   "outputs": [
    {
     "name": "stdout",
     "output_type": "stream",
     "text": [
      "Accuracy of Iris-Setosa: 1.0\n"
     ]
    }
   ],
   "source": [
    "# accuracy of the Setosa class using formula\n",
    "tp2 = conf_mat2[0][0]\n",
    "fp2 = conf_mat2[1][0] + conf_mat2[2][0]\n",
    "fn2 = conf_mat2[0][1] + conf_mat2[0][2]\n",
    "tn2 = conf_mat2[1][1] + conf_mat2[1][2] + conf_mat2[2][0] + conf_mat2[2][1]\n",
    "\n",
    "acc1 = (tp2 + tn2) / (tp2 + fn2 + tn2 + fp2)\n",
    "print('Accuracy of Iris-Setosa:', acc1)"
   ]
  },
  {
   "cell_type": "code",
   "execution_count": 65,
   "id": "9abe48c2",
   "metadata": {},
   "outputs": [
    {
     "name": "stdout",
     "output_type": "stream",
     "text": [
      "Accuracy of Iris-Versicolor: 0.9333333333333333\n",
      "Accuracy of Iris-Virginica: 0.9333333333333333\n"
     ]
    }
   ],
   "source": [
    "# accuracy using built in methods\n",
    "# accuracy of predicting Versicolor \n",
    "acc2 = accuracy_score(y2_test == classes2.index('Iris-Versicolor'), y2_pred == classes2.index('Iris-Versicolor'))\n",
    "print('Accuracy of Iris-Versicolor:', acc2)\n",
    "\n",
    "# accuracy of prediciting Virginica\n",
    "acc3 = accuracy_score(y2_test == classes2.index('Iris-Virginica'), y2_pred == classes2.index('Iris-Virginica'))\n",
    "print('Accuracy of Iris-Virginica:', acc3)"
   ]
  },
  {
   "cell_type": "markdown",
   "id": "b8a866f9",
   "metadata": {},
   "source": [
    "### Precision and Recall Scores\n",
    "\n",
    "Using build-in methods to calculate performace measures"
   ]
  },
  {
   "cell_type": "code",
   "execution_count": 66,
   "id": "7f80ea4d",
   "metadata": {},
   "outputs": [
    {
     "name": "stdout",
     "output_type": "stream",
     "text": [
      "Precision of Iris-Setosa: 1.0\n",
      "Recall of Iris-Setosa: 1.0\n",
      "\n",
      "Precision of Iris-Versicolor: 1.0\n",
      "Recall of Iris-Versicolor: 0.8571428571428571\n",
      "\n",
      "Precision of Iris-Virginica: 1.0\n",
      "Recall of Iris-Virginica: 0.8571428571428571\n"
     ]
    }
   ],
   "source": [
    "# precision and recall for Setosa class\n",
    "prec1 = precision_score(y2_test == classes2.index('Iris-Setosa'), y2_pred == classes2.index('Iris-Setosa'))\n",
    "rec1 = recall_score(y2_test == classes2.index('Iris-Setosa'), y2_pred == classes2.index('Iris-Setosa'))\n",
    "\n",
    "print('Precision of Iris-Setosa:', prec1)\n",
    "print('Recall of Iris-Setosa:', rec1)\n",
    "\n",
    "# precision and recall Versicolor class\n",
    "prec2 = precision_score(y2_test == classes2.index('Iris-Versicolor'), y2_pred == classes2.index('Iris-Versicolor'))\n",
    "rec2 = recall_score(y2_test == classes2.index('Iris-Versicolor'), y2_pred == classes2.index('Iris-Versicolor'))\n",
    "\n",
    "print('\\nPrecision of Iris-Versicolor:', prec2)\n",
    "print('Recall of Iris-Versicolor:', rec2)\n",
    "\n",
    "# precision and recall Virginica class\n",
    "prec3 = precision_score(y2_test == classes2.index('Iris-Virginica'), y2_pred == classes2.index('Iris-Virginica'))\n",
    "rec3 = recall_score(y2_test == classes2.index('Iris-Virginica'), y2_pred == classes2.index('Iris-Virginica'))\n",
    "\n",
    "print('\\nPrecision of Iris-Virginica:', prec2)\n",
    "print('Recall of Iris-Virginica:', rec2)"
   ]
  },
  {
   "cell_type": "markdown",
   "id": "3895f565",
   "metadata": {},
   "source": [
    "### F1-Score"
   ]
  },
  {
   "cell_type": "code",
   "execution_count": 67,
   "id": "78cc2d2b",
   "metadata": {},
   "outputs": [
    {
     "name": "stdout",
     "output_type": "stream",
     "text": [
      "0.9333333333333333\n",
      "Hardest class: Iris-Virginica\n"
     ]
    }
   ],
   "source": [
    "# average f1 score\n",
    "av_f1 = f1_score(y2_test, y2_pred, average='micro')\n",
    "print(av_f1)\n",
    "\n",
    "# f1 score per class\n",
    "f = f1_score(y2_test, y2_pred, average=None)\n",
    "lowest_score = min(f)\n",
    "hardest_class = classes2[list(f).index(lowest_score)]\n",
    "print('Hardest class:', hardest_class)"
   ]
  },
  {
   "cell_type": "markdown",
   "id": "cbb7cc73",
   "metadata": {},
   "source": [
    "With the model now trying to predicit all three types of the Iris plant family from the observed variables, there has been a decrease in accuracy and recall for the plant types Iris-Versicolor and Iris-Virginica. \n",
    "The accuracy and recall have decreased as the model appears to have difficult distinguishing between Iris-Versicolor and Iris-Virginica."
   ]
  },
  {
   "cell_type": "code",
   "execution_count": null,
   "id": "88a6f6a5",
   "metadata": {},
   "outputs": [],
   "source": []
  }
 ],
 "metadata": {
  "kernelspec": {
   "display_name": "Python 3 (ipykernel)",
   "language": "python",
   "name": "python3"
  },
  "language_info": {
   "codemirror_mode": {
    "name": "ipython",
    "version": 3
   },
   "file_extension": ".py",
   "mimetype": "text/x-python",
   "name": "python",
   "nbconvert_exporter": "python",
   "pygments_lexer": "ipython3",
   "version": "3.8.8"
  }
 },
 "nbformat": 4,
 "nbformat_minor": 5
}
